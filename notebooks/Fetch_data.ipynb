{
 "cells": [
  {
   "cell_type": "markdown",
   "metadata": {},
   "source": [
    "## Importing YT vid IDs"
   ]
  },
  {
   "cell_type": "code",
   "execution_count": 1,
   "metadata": {
    "ExecuteTime": {
     "end_time": "2021-02-23T21:38:15.350392Z",
     "start_time": "2021-02-23T21:38:15.019004Z"
    }
   },
   "outputs": [],
   "source": [
    "import pandas as pd"
   ]
  },
  {
   "cell_type": "code",
   "execution_count": 2,
   "metadata": {
    "ExecuteTime": {
     "end_time": "2021-02-23T21:38:16.088373Z",
     "start_time": "2021-02-23T21:38:15.354027Z"
    }
   },
   "outputs": [],
   "source": [
    "df = pd.read_csv(\"../raw_data/USvideos.csv\")\n",
    "# df.head()"
   ]
  },
  {
   "cell_type": "code",
   "execution_count": 3,
   "metadata": {
    "ExecuteTime": {
     "end_time": "2021-02-23T21:38:16.146427Z",
     "start_time": "2021-02-23T21:38:16.098066Z"
    }
   },
   "outputs": [
    {
     "data": {
      "text/plain": [
       "0.15509536252411538"
      ]
     },
     "execution_count": 3,
     "metadata": {},
     "output_type": "execute_result"
    }
   ],
   "source": [
    "df.video_id.nunique() / df.shape[0]"
   ]
  },
  {
   "cell_type": "code",
   "execution_count": 4,
   "metadata": {
    "ExecuteTime": {
     "end_time": "2021-02-23T21:38:16.219820Z",
     "start_time": "2021-02-23T21:38:16.150224Z"
    }
   },
   "outputs": [],
   "source": [
    "df_small = df[[\"video_id\",\"title\"]].drop_duplicates()"
   ]
  },
  {
   "cell_type": "markdown",
   "metadata": {},
   "source": [
    "## Fetching the transcripts"
   ]
  },
  {
   "cell_type": "code",
   "execution_count": 5,
   "metadata": {
    "ExecuteTime": {
     "end_time": "2021-02-23T21:38:16.431595Z",
     "start_time": "2021-02-23T21:38:16.222628Z"
    }
   },
   "outputs": [],
   "source": [
    "from youtube_transcript_api import YouTubeTranscriptApi"
   ]
  },
  {
   "cell_type": "code",
   "execution_count": 6,
   "metadata": {
    "ExecuteTime": {
     "end_time": "2021-02-23T21:38:16.438011Z",
     "start_time": "2021-02-23T21:38:16.433882Z"
    }
   },
   "outputs": [],
   "source": [
    "api = YouTubeTranscriptApi()"
   ]
  },
  {
   "cell_type": "code",
   "execution_count": 23,
   "metadata": {
    "ExecuteTime": {
     "end_time": "2021-02-23T21:42:30.117365Z",
     "start_time": "2021-02-23T21:42:30.108053Z"
    }
   },
   "outputs": [
    {
     "data": {
      "text/plain": [
       "6463"
      ]
     },
     "execution_count": 23,
     "metadata": {},
     "output_type": "execute_result"
    }
   ],
   "source": [
    "# PREPARING IDs\n",
    "ids = list(df_small[\"video_id\"])\n",
    "len(ids)"
   ]
  },
  {
   "cell_type": "code",
   "execution_count": 24,
   "metadata": {
    "ExecuteTime": {
     "end_time": "2021-02-23T22:41:17.901060Z",
     "start_time": "2021-02-23T21:42:36.669567Z"
    }
   },
   "outputs": [],
   "source": [
    "# ITERATING THROUGH IDs\n",
    "transcripts = {}\n",
    "leng = len(ids)\n",
    "for counter, id in enumerate(ids):\n",
    "    try:\n",
    "        print(f\"Vortschritt: {counter/leng*100}\")\n",
    "        transcripts[id] = api.get_transcript(id, languages=['en'])\n",
    "    except:\n",
    "        continue"
   ]
  },
  {
   "cell_type": "code",
   "execution_count": 34,
   "metadata": {
    "ExecuteTime": {
     "end_time": "2021-02-23T23:06:39.558709Z",
     "start_time": "2021-02-23T23:06:39.552275Z"
    },
    "scrolled": false
   },
   "outputs": [],
   "source": [
    "# transcripts.keys()"
   ]
  },
  {
   "cell_type": "code",
   "execution_count": 35,
   "metadata": {
    "ExecuteTime": {
     "end_time": "2021-02-23T23:06:51.697954Z",
     "start_time": "2021-02-23T23:06:43.494777Z"
    }
   },
   "outputs": [],
   "source": [
    "# EXPORTING CSV => ID, Transcript-dict\n",
    "import csv\n",
    "with open('transcripts.csv', 'w') as tr:\n",
    "    for key in transcripts.keys():\n",
    "        tr.write(\"%s,%s\\n\"%(key,transcripts[key]))"
   ]
  },
  {
   "cell_type": "code",
   "execution_count": null,
   "metadata": {},
   "outputs": [],
   "source": []
  }
 ],
 "metadata": {
  "kernelspec": {
   "display_name": "Python 3",
   "language": "python",
   "name": "python3"
  },
  "language_info": {
   "codemirror_mode": {
    "name": "ipython",
    "version": 3
   },
   "file_extension": ".py",
   "mimetype": "text/x-python",
   "name": "python",
   "nbconvert_exporter": "python",
   "pygments_lexer": "ipython3",
   "version": "3.8.6"
  },
  "toc": {
   "base_numbering": 1,
   "nav_menu": {},
   "number_sections": true,
   "sideBar": true,
   "skip_h1_title": false,
   "title_cell": "Table of Contents",
   "title_sidebar": "Contents",
   "toc_cell": false,
   "toc_position": {},
   "toc_section_display": true,
   "toc_window_display": false
  }
 },
 "nbformat": 4,
 "nbformat_minor": 4
}
