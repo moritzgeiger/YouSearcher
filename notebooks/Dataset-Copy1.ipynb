{
 "cells": [
  {
   "cell_type": "code",
   "execution_count": 1,
   "metadata": {
    "ExecuteTime": {
     "end_time": "2021-02-23T22:28:13.694907Z",
     "start_time": "2021-02-23T22:28:12.943407Z"
    }
   },
   "outputs": [],
   "source": [
    "import pandas as pd"
   ]
  },
  {
   "cell_type": "code",
   "execution_count": 2,
   "metadata": {
    "ExecuteTime": {
     "end_time": "2021-02-23T22:28:17.980143Z",
     "start_time": "2021-02-23T22:28:13.697848Z"
    }
   },
   "outputs": [],
   "source": [
    "df = pd.read_csv(\"../raw_data/USvideos.csv\")\n",
    "df_small = df[[\"video_id\",\"title\"]].drop_duplicates()"
   ]
  },
  {
   "cell_type": "code",
   "execution_count": 3,
   "metadata": {
    "ExecuteTime": {
     "end_time": "2021-02-23T22:28:22.990488Z",
     "start_time": "2021-02-23T22:28:22.856206Z"
    }
   },
   "outputs": [
    {
     "data": {
      "text/plain": [
       "6463"
      ]
     },
     "execution_count": 3,
     "metadata": {},
     "output_type": "execute_result"
    }
   ],
   "source": [
    "from youtube_transcript_api import YouTubeTranscriptApi\n",
    "api = YouTubeTranscriptApi()\n",
    "ids = list(df_small[\"video_id\"])\n",
    "len(ids)"
   ]
  },
  {
   "cell_type": "code",
   "execution_count": null,
   "metadata": {
    "ExecuteTime": {
     "start_time": "2021-02-23T22:28:39.743Z"
    }
   },
   "outputs": [
    {
     "name": "stdout",
     "output_type": "stream",
     "text": [
      "Vortschritt: 0.0\n",
      "Vortschritt: 0.015472690700912888\n",
      "Vortschritt: 0.030945381401825775\n",
      "Vortschritt: 0.04641807210273867\n",
      "Vortschritt: 0.06189076280365155\n",
      "Vortschritt: 0.07736345350456444\n",
      "Vortschritt: 0.09283614420547734\n",
      "Vortschritt: 0.10830883490639022\n",
      "Vortschritt: 0.1237815256073031\n",
      "Vortschritt: 0.139254216308216\n",
      "Vortschritt: 0.1547269070091289\n",
      "Vortschritt: 0.17019959771004178\n",
      "Vortschritt: 0.18567228841095468\n",
      "Vortschritt: 0.20114497911186754\n",
      "Vortschritt: 0.21661766981278044\n",
      "Vortschritt: 0.23209036051369333\n",
      "Vortschritt: 0.2475630512146062\n",
      "Vortschritt: 0.26303574191551915\n",
      "Vortschritt: 0.278508432616432\n",
      "Vortschritt: 0.2939811233173449\n",
      "Vortschritt: 0.3094538140182578\n",
      "Vortschritt: 0.3249265047191707\n",
      "Vortschritt: 0.34039919542008357\n",
      "Vortschritt: 0.3558718861209964\n",
      "Vortschritt: 0.37134457682190936\n",
      "Vortschritt: 0.38681726752282225\n",
      "Vortschritt: 0.4022899582237351\n",
      "Vortschritt: 0.41776264892464804\n",
      "Vortschritt: 0.4332353396255609\n",
      "Vortschritt: 0.44870803032647383\n",
      "Vortschritt: 0.46418072102738667\n",
      "Vortschritt: 0.47965341172829956\n",
      "Vortschritt: 0.4951261024292124\n",
      "Vortschritt: 0.5105987931301254\n",
      "Vortschritt: 0.5260714838310383\n",
      "Vortschritt: 0.5415441745319511\n",
      "Vortschritt: 0.557016865232864\n",
      "Vortschritt: 0.5724895559337768\n",
      "Vortschritt: 0.5879622466346898\n",
      "Vortschritt: 0.6034349373356026\n",
      "Vortschritt: 0.6189076280365156\n",
      "Vortschritt: 0.6343803187374285\n",
      "Vortschritt: 0.6498530094383413\n",
      "Vortschritt: 0.6653257001392543\n",
      "Vortschritt: 0.6807983908401671\n",
      "Vortschritt: 0.69627108154108\n",
      "Vortschritt: 0.7117437722419928\n",
      "Vortschritt: 0.7272164629429058\n",
      "Vortschritt: 0.7426891536438187\n",
      "Vortschritt: 0.7581618443447316\n",
      "Vortschritt: 0.7736345350456445\n",
      "Vortschritt: 0.7891072257465573\n",
      "Vortschritt: 0.8045799164474702\n",
      "Vortschritt: 0.820052607148383\n",
      "Vortschritt: 0.8355252978492961\n",
      "Vortschritt: 0.8509979885502089\n",
      "Vortschritt: 0.8664706792511218\n",
      "Vortschritt: 0.8819433699520346\n",
      "Vortschritt: 0.8974160606529477\n",
      "Vortschritt: 0.9128887513538605\n",
      "Vortschritt: 0.9283614420547733\n",
      "Vortschritt: 0.9438341327556863\n",
      "Vortschritt: 0.9593068234565991\n",
      "Vortschritt: 0.974779514157512\n",
      "Vortschritt: 0.9902522048584248\n",
      "Vortschritt: 1.0057248955593379\n",
      "Vortschritt: 1.0211975862602507\n",
      "Vortschritt: 1.0366702769611635\n",
      "Vortschritt: 1.0521429676620766\n",
      "Vortschritt: 1.0676156583629894\n",
      "Vortschritt: 1.0830883490639023\n",
      "Vortschritt: 1.0985610397648151\n",
      "Vortschritt: 1.114033730465728\n",
      "Vortschritt: 1.1295064211666408\n",
      "Vortschritt: 1.1449791118675536\n",
      "Vortschritt: 1.1604518025684667\n",
      "Vortschritt: 1.1759244932693795\n",
      "Vortschritt: 1.1913971839702924\n",
      "Vortschritt: 1.2068698746712052\n",
      "Vortschritt: 1.2223425653721183\n",
      "Vortschritt: 1.2378152560730311\n",
      "Vortschritt: 1.253287946773944\n",
      "Vortschritt: 1.268760637474857\n",
      "Vortschritt: 1.2842333281757699\n"
     ]
    }
   ],
   "source": [
    "transcripts = {}\n",
    "leng = len(ids)\n",
    "for counter, id in enumerate(ids):\n",
    "    try:\n",
    "        print(f\"Vortschritt: {counter/leng*100}\")\n",
    "        transcripts[id] = api.get_transcript(id, languages=['en'])\n",
    "    except:\n",
    "        continue"
   ]
  },
  {
   "cell_type": "code",
   "execution_count": null,
   "metadata": {},
   "outputs": [],
   "source": []
  }
 ],
 "metadata": {
  "kernelspec": {
   "display_name": "Python 3",
   "language": "python",
   "name": "python3"
  },
  "language_info": {
   "codemirror_mode": {
    "name": "ipython",
    "version": 3
   },
   "file_extension": ".py",
   "mimetype": "text/x-python",
   "name": "python",
   "nbconvert_exporter": "python",
   "pygments_lexer": "ipython3",
   "version": "3.8.6"
  },
  "toc": {
   "base_numbering": 1,
   "nav_menu": {},
   "number_sections": true,
   "sideBar": true,
   "skip_h1_title": false,
   "title_cell": "Table of Contents",
   "title_sidebar": "Contents",
   "toc_cell": false,
   "toc_position": {},
   "toc_section_display": true,
   "toc_window_display": false
  }
 },
 "nbformat": 4,
 "nbformat_minor": 4
}
